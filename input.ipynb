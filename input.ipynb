{
 "cells": [
  {
   "cell_type": "code",
   "execution_count": null,
   "id": "235ff6cb",
   "metadata": {},
   "outputs": [],
   "source": [
    "#TEXT INPUT FILE\n",
    "\n",
    "import functions\n",
    "\n",
    "import spacy\n",
    "nlp = spacy.load(\"en_core_web_lg\")"
   ]
  },
  {
   "cell_type": "code",
   "execution_count": null,
   "id": "9797114a",
   "metadata": {},
   "outputs": [],
   "source": [
    "#TEXT INPUT\n",
    "\n",
    "def input_text():\n",
    "    \n",
    "    text = ''\n",
    "    \n",
    "    print('Enter text')\n",
    "    text = input()\n",
    "    doc = nlp(text)\n",
    "    \n",
    "    return doc\n",
    "\n",
    "doc = input_text()\n",
    "print (doc.text)"
   ]
  },
  {
   "cell_type": "code",
   "execution_count": null,
   "id": "042f8c87",
   "metadata": {},
   "outputs": [],
   "source": [
    "print('Noun count:', functions.noun_count(doc))\n",
    "print('Entities:', functions.entities_count(doc))\n",
    "print('Chunks:', functions.chunks_extraction(doc))\n",
    "functions.visualize_entities(doc)"
   ]
  }
 ],
 "metadata": {
  "kernelspec": {
   "display_name": "Python 3 (ipykernel)",
   "language": "python",
   "name": "python3"
  },
  "language_info": {
   "codemirror_mode": {
    "name": "ipython",
    "version": 3
   },
   "file_extension": ".py",
   "mimetype": "text/x-python",
   "name": "python",
   "nbconvert_exporter": "python",
   "pygments_lexer": "ipython3",
   "version": "3.9.16"
  }
 },
 "nbformat": 4,
 "nbformat_minor": 5
}
