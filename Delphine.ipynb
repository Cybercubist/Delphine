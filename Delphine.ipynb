{
 "cells": [
  {
   "cell_type": "code",
   "execution_count": null,
   "id": "188bf829",
   "metadata": {},
   "outputs": [],
   "source": [
    "from collections import Counter\n",
    "import spacy\n",
    "from spacy import displacy\n",
    "nlp = spacy.load(\"en_core_web_lg\")"
   ]
  },
  {
   "cell_type": "code",
   "execution_count": null,
   "id": "569ac053",
   "metadata": {},
   "outputs": [],
   "source": [
    "#\"Trash tokens list\" — words we're going to ignore completely. May become much larger soon\n",
    "\n",
    "ttl = ['Q1', 'quarter', '%', 'year', 'question', 'business', 'thanks']"
   ]
  },
  {
   "cell_type": "code",
   "execution_count": null,
   "id": "c61bf6a3",
   "metadata": {},
   "outputs": [],
   "source": [
    "#TEXT INPUT\n",
    "\n",
    "def input_text():\n",
    "    \n",
    "    text = ''\n",
    "    \n",
    "    print('Enter text')\n",
    "    text = input()\n",
    "    doc = nlp(text)\n",
    "    \n",
    "    return doc\n",
    "\n",
    "doc = input_text()\n",
    "print (doc.text)"
   ]
  },
  {
   "cell_type": "code",
   "execution_count": null,
   "id": "e2b80626",
   "metadata": {},
   "outputs": [],
   "source": [
    "#SUBSIDIARY FUNCTIONS\n",
    "\n",
    "def word_counter(word_list, word_number):\n",
    "    \n",
    "    cnt = Counter()\n",
    "    for numbers in word_list:\n",
    "        cnt[numbers] +=1\n",
    "\n",
    "    result = dict(cnt)\n",
    "    result = sorted(result.items(), key=lambda x:x[1], reverse=True)\n",
    "    \n",
    "    return (dict(result[0:word_number]))"
   ]
  },
  {
   "cell_type": "code",
   "execution_count": null,
   "id": "fa974202",
   "metadata": {},
   "outputs": [],
   "source": [
    "#PRIMARY FUNCTIONS\n",
    "\n",
    "#1.Counting nouns:\n",
    "\n",
    "def noun_count(doc):\n",
    "    \n",
    "    noun_list = []\n",
    "    \n",
    "    for token in doc:\n",
    "        \n",
    "        if token.pos_=='NOUN' and token.text not in ttl:\n",
    "            token_text = token.text\n",
    "            noun_list.append(token_text)\n",
    "    \n",
    "    noun_counted = word_counter(noun_list, 10)\n",
    "    \n",
    "    return noun_counted\n",
    "\n",
    "#2.Extracting entites which are not numbers:\n",
    "\n",
    "def entities_count(doc):\n",
    "    \n",
    "    entities_dict = {}\n",
    "    dates_list = []\n",
    "    orgs_list = []\n",
    "    numbers_list = []\n",
    "    \n",
    "    for ent in doc.ents:\n",
    "        \n",
    "        if ent.label_ == 'DATE':\n",
    "        \n",
    "            dates_list.append(ent.text)\n",
    "            \n",
    "        elif ent.label_ == 'ORG':\n",
    "            \n",
    "            orgs_list.append(ent.text)\n",
    "        \n",
    "        elif ent.label_ == 'MONEY':\n",
    "            \n",
    "            numbers_list.append(ent.text)\n",
    "            \n",
    "    entities_dict = {\n",
    "        \"Dates\": dates_list,\n",
    "        \"Orgs\": orgs_list,\n",
    "        \"Numbers\": numbers_list\n",
    "    }\n",
    "        \n",
    "    return entities_dict\n",
    "    \n",
    "#3.Visualizing entities:\n",
    "    \n",
    "def visualize_entities(doc):\n",
    "\n",
    "    displacy.render(doc, style=\"ent\")\n",
    "\n",
    "#4.Extracting noun chunks:\n",
    "\n",
    "def chunks_extraction (doc):\n",
    "    \n",
    "    chunks_list = []\n",
    "    \n",
    "    for chunk in doc.noun_chunks:\n",
    "        \n",
    "        chunk_list.append(chunk.text)\n",
    "        \n",
    "    return chunks_list    \n",
    "\n",
    "#def numbers_extraction (doc):"
   ]
  },
  {
   "cell_type": "code",
   "execution_count": null,
   "id": "98fa8e34",
   "metadata": {},
   "outputs": [],
   "source": [
    "#text-to-data part\n",
    "\n",
    "print(noun_count(doc))\n",
    "print(entities_count(doc))\n",
    "print(chunks_extraction(doc))"
   ]
  },
  {
   "cell_type": "code",
   "execution_count": null,
   "id": "ad58002b",
   "metadata": {},
   "outputs": [],
   "source": [
    "#text-to-visual part\n",
    "\n",
    "visualize_entities(doc)"
   ]
  },
  {
   "cell_type": "code",
   "execution_count": null,
   "id": "4b86676b",
   "metadata": {},
   "outputs": [],
   "source": [
    "#gonna use later\n",
    "\n",
    "def add_date(date):\n",
    "    \n",
    "    date = ''\n",
    "    \n",
    "    print('Enter date')\n",
    "    date = input()\n",
    "    \n",
    "    return date\n",
    "\n",
    "def metadata_extraction(doc, features_list):\n",
    "    \n",
    "    if 'noun_count' in features_list:\n",
    "        noun_count(doc)\n",
    "        \n",
    "    return metadata_extraction\n",
    "\n",
    "features_list = ['noun_count', 'entities']\n",
    "    \n",
    "meta_extraction(doc, features_list)"
   ]
  }
 ],
 "metadata": {
  "kernelspec": {
   "display_name": "Python 3 (ipykernel)",
   "language": "python",
   "name": "python3"
  },
  "language_info": {
   "codemirror_mode": {
    "name": "ipython",
    "version": 3
   },
   "file_extension": ".py",
   "mimetype": "text/x-python",
   "name": "python",
   "nbconvert_exporter": "python",
   "pygments_lexer": "ipython3",
   "version": "3.9.16"
  }
 },
 "nbformat": 4,
 "nbformat_minor": 5
}
