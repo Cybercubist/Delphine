{
 "cells": [
  {
   "cell_type": "code",
   "execution_count": null,
   "id": "188bf829",
   "metadata": {},
   "outputs": [],
   "source": [
    "from collections import Counter\n",
    "import spacy\n",
    "nlp = spacy.load(\"en_core_web_lg\")"
   ]
  },
  {
   "cell_type": "code",
   "execution_count": null,
   "id": "569ac053",
   "metadata": {},
   "outputs": [],
   "source": [
    "ttl = ['Q1', 'quarter', '%', 'year', 'question', 'business', 'thanks']"
   ]
  },
  {
   "cell_type": "code",
   "execution_count": null,
   "id": "c61bf6a3",
   "metadata": {},
   "outputs": [],
   "source": [
    "#TEXT INPUT\n",
    "\n",
    "def input_text():\n",
    "    \n",
    "    text = ''\n",
    "    \n",
    "    print('Enter text')\n",
    "    text = input()\n",
    "    doc = nlp(text)\n",
    "    \n",
    "    return doc\n",
    "\n",
    "doc = input_text()\n",
    "print (doc.text)"
   ]
  },
  {
   "cell_type": "code",
   "execution_count": null,
   "id": "e2b80626",
   "metadata": {},
   "outputs": [],
   "source": [
    "#SUBSIDIARY FUNCTIONS\n",
    "\n",
    "def word_counter(word_list, word_number):\n",
    "    \n",
    "    cnt = Counter()\n",
    "    for numbers in word_list:\n",
    "        cnt[numbers] +=1\n",
    "\n",
    "    result = dict(cnt)\n",
    "    result = sorted(result.items(), key=lambda x:x[1], reverse=True)\n",
    "    \n",
    "    return (dict(result[0:word_number]))"
   ]
  },
  {
   "cell_type": "code",
   "execution_count": null,
   "id": "fa974202",
   "metadata": {},
   "outputs": [],
   "source": [
    "#PRIMARY FUNCTIONS\n",
    "\n",
    "def noun_count(doc):\n",
    "    \n",
    "    noun_list = []\n",
    "    \n",
    "    for token in doc:\n",
    "        \n",
    "        if token.pos_=='NOUN' and token.text not in ttl:\n",
    "            token_text = token.text\n",
    "            noun_list.append(token_text)\n",
    "    \n",
    "    noun_counted = word_counter(noun_list, 10)\n",
    "    \n",
    "    return noun_counted\n",
    "\n",
    "def entities_counter (doc):\n",
    "    \n",
    "def visualize_entities (doc):\n",
    "\n",
    "def chunks_extraction (doc):\n",
    "\n",
    "def numbers_extraction (doc):\n",
    "    \n",
    "def add_date(date):\n",
    "    \n",
    "    date = ''\n",
    "    \n",
    "    print('enter date')\n",
    "    date = input()\n",
    "    \n",
    "    return date"
   ]
  },
  {
   "cell_type": "code",
   "execution_count": null,
   "id": "98fa8e34",
   "metadata": {},
   "outputs": [],
   "source": [
    "noun_count(doc)"
   ]
  },
  {
   "cell_type": "code",
   "execution_count": null,
   "id": "4b86676b",
   "metadata": {},
   "outputs": [],
   "source": [
    "def metadata_extraction(doc, features_list):\n",
    "    \n",
    "    if 'noun_count' in features_list:\n",
    "        noun_count(doc)\n",
    "        \n",
    "    return metadata_extraction\n",
    "\n",
    "features_list = ['noun_count', 'entities']\n",
    "    \n",
    "meta_extraction(doc, features_list)"
   ]
  }
 ],
 "metadata": {
  "kernelspec": {
   "display_name": "Python 3 (ipykernel)",
   "language": "python",
   "name": "python3"
  },
  "language_info": {
   "codemirror_mode": {
    "name": "ipython",
    "version": 3
   },
   "file_extension": ".py",
   "mimetype": "text/x-python",
   "name": "python",
   "nbconvert_exporter": "python",
   "pygments_lexer": "ipython3",
   "version": "3.9.16"
  }
 },
 "nbformat": 4,
 "nbformat_minor": 5
}
